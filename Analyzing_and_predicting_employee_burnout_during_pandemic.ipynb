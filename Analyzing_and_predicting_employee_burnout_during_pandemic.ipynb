{
  "nbformat": 4,
  "nbformat_minor": 0,
  "metadata": {
    "colab": {
      "name": "Analyzing and predicting employee burnout during pandemic",
      "provenance": [],
      "authorship_tag": "ABX9TyOcnVCo6J+B5UloNHuy68BD",
      "include_colab_link": true
    },
    "kernelspec": {
      "name": "python3",
      "display_name": "Python 3"
    },
    "language_info": {
      "name": "python"
    }
  },
  "cells": [
    {
      "cell_type": "markdown",
      "metadata": {
        "id": "view-in-github",
        "colab_type": "text"
      },
      "source": [
        "<a href=\"https://colab.research.google.com/github/AMMLRepos/predict-mental-burnout-of-employeesu/blob/main/Analyzing_and_predicting_employee_burnout_during_pandemic.ipynb\" target=\"_parent\"><img src=\"https://colab.research.google.com/assets/colab-badge.svg\" alt=\"Open In Colab\"/></a>"
      ]
    },
    {
      "cell_type": "markdown",
      "metadata": {
        "id": "maPMEn9_uhVV"
      },
      "source": [
        "#Overview \n",
        "COVID 19 pandemic has bought never though and un-imagined situation for whole world. While it has impacted all sectors of work and life, IT sector employees or white-collar employees are the one who are least impacted with the expected outcomes. Instead, many articles and comments on LinkedIn suggested that WFH has resulted in increased productivity for an organization. Many complained about burn-out and mental stress blaming WFH for leaving no boundries in their personal and job life. \n",
        "We will analyze the openely available [data from Kaggle](https://www.kaggle.com/blurredmachine/are-your-employees-burning-out)\n",
        "\n",
        "#Expected outcome \n",
        "- Analyze the available data to answer stats from the data \n",
        "- Develop a model to predict if an employee is burn-out or not \n",
        "\n",
        "#What data do we have ?\n",
        "- **Employee ID**: The unique ID allocated for each employee (example: fffe390032003000)\n",
        "- **Date of Joining**: The date-time when the employee has joined the organization (example: 2008-12-30)\n",
        "- **Gender**: The gender of the employee (Male/Female)\n",
        "- **Company Type**: The type of company where the employee is working (Service/Product)\n",
        "- **WFH Setup Available**: Is the work from home facility available for the employee (Yes/No)\n",
        "- **Designation**: The designation of the employee of work in the organization.\n",
        "In the range of [0.0, 5.0] bigger is higher designation.\n",
        "- **Resource Allocation**: The amount of resource allocated to the employee to work, ie. number of working hours.In the range of [1.0, 10.0] (higher means more resource)\n",
        "- **Mental Fatigue Score**: The level of fatigue mentally the employee is facing.In the range of [0.0, 10.0] where 0.0 means no fatigue and 10.0 means completely fatigue.\n",
        "- **Burn Rate**: The value we need to predict for each employee telling the rate of Bur out while working.\n",
        "In the range of [0.0, 1.0] where the higher the value is more is the burn out.\n",
        "\n",
        "#Major steps \n",
        "- Setup development environment - Google Colab, Python libraries \n",
        "- Download data using [opendatasets library](https://github.com/JovianML/opendatasets) developed by [Jovian](https://jovian.ai)\n",
        "- Perform visualizations on the training data and get some stats displayed\n",
        "- Build a model and predict "
      ]
    },
    {
      "cell_type": "markdown",
      "metadata": {
        "id": "fFvP7ntgxyys"
      },
      "source": [
        "#Step 1 - Install libraries needed for development environment setup and import them"
      ]
    },
    {
      "cell_type": "code",
      "metadata": {
        "id": "uNDLWaHLtud-"
      },
      "source": [
        "!pip install opendatasets pandas numpy matplotlib seaborn sklearn --quiet"
      ],
      "execution_count": 22,
      "outputs": []
    },
    {
      "cell_type": "code",
      "metadata": {
        "colab": {
          "base_uri": "https://localhost:8080/",
          "height": 34
        },
        "id": "3UgFzzTfyixC",
        "outputId": "e7f7dedc-de94-4977-f6a2-2c0f1fc61db0"
      },
      "source": [
        "import pandas as pd\n",
        "import numpy as np\n",
        "import matplotlib.pyplot as plt\n",
        "import seaborn as sns\n",
        "\n",
        "%matplotlib inline \n",
        "sns.set_theme(style = \"darkgrid\")\n",
        "sns.set_context(\"paper\")\n",
        "plt.figure(figsize=(8,6))\n",
        "\n",
        "pd.set_option('display.max_rows', 50)\n",
        "pd.set_option('display.max_columns', 500)\n",
        "pd.set_option('display.width', 1000)"
      ],
      "execution_count": 23,
      "outputs": [
        {
          "output_type": "display_data",
          "data": {
            "text/plain": [
              "<Figure size 576x432 with 0 Axes>"
            ]
          },
          "metadata": {}
        }
      ]
    },
    {
      "cell_type": "markdown",
      "metadata": {
        "id": "xo9GPfi5yBC2"
      },
      "source": [
        "#Step 2 - Download data from Kaggle"
      ]
    },
    {
      "cell_type": "code",
      "metadata": {
        "colab": {
          "base_uri": "https://localhost:8080/"
        },
        "id": "2qPkS37lx_bN",
        "outputId": "6ad2d145-68c4-43bf-f7a0-c0c342026464"
      },
      "source": [
        "import opendatasets as od\n",
        "import os\n",
        "\n",
        "dataset_url = \"https://www.kaggle.com/blurredmachine/are-your-employees-burning-out\"\n",
        "od.download(dataset_url)\n",
        "\n",
        "data_dir = os.listdir()[1]\n",
        "file_list = os.listdir(\"./are-your-employees-burning-out\")\n",
        "print(file_list)"
      ],
      "execution_count": 24,
      "outputs": [
        {
          "output_type": "stream",
          "text": [
            "Skipping, found downloaded files in \"./are-your-employees-burning-out\" (use force=True to force download)\n",
            "['train.csv', 'sample_submission.csv', 'test.csv']\n"
          ],
          "name": "stdout"
        }
      ]
    },
    {
      "cell_type": "markdown",
      "metadata": {
        "id": "4VzLc36NyuAw"
      },
      "source": [
        "#Step 3 - Load train.csv into pandas"
      ]
    },
    {
      "cell_type": "code",
      "metadata": {
        "colab": {
          "base_uri": "https://localhost:8080/"
        },
        "id": "Jq4Ja1RrysSa",
        "outputId": "4b99b890-331f-40dc-a828-40dae2caf776"
      },
      "source": [
        "file_path = \"./are-your-employees-burning-out/\" + file_list[0]\n",
        "raw_employee_df = pd.read_csv(file_path)\n",
        "print(raw_employee_df)"
      ],
      "execution_count": 25,
      "outputs": [
        {
          "output_type": "stream",
          "text": [
            "                    Employee ID Date of Joining  Gender Company Type WFH Setup Available  Designation  Resource Allocation  Mental Fatigue Score  Burn Rate\n",
            "0      fffe32003000360033003200      2008-09-30  Female      Service                  No          2.0                  3.0                   3.8       0.16\n",
            "1          fffe3700360033003500      2008-11-30    Male      Service                 Yes          1.0                  2.0                   5.0       0.36\n",
            "2      fffe31003300320037003900      2008-03-10  Female      Product                 Yes          2.0                  NaN                   5.8       0.49\n",
            "3      fffe32003400380032003900      2008-11-03    Male      Service                 Yes          1.0                  1.0                   2.6       0.20\n",
            "4      fffe31003900340031003600      2008-07-24  Female      Service                  No          3.0                  7.0                   6.9       0.52\n",
            "...                         ...             ...     ...          ...                 ...          ...                  ...                   ...        ...\n",
            "22745  fffe31003500370039003100      2008-12-30  Female      Service                  No          1.0                  3.0                   NaN       0.41\n",
            "22746  fffe33003000350031003800      2008-01-19  Female      Product                 Yes          3.0                  6.0                   6.7       0.59\n",
            "22747          fffe390032003000      2008-11-05    Male      Service                 Yes          3.0                  7.0                   NaN       0.72\n",
            "22748  fffe33003300320036003900      2008-01-10  Female      Service                  No          2.0                  5.0                   5.9       0.52\n",
            "22749      fffe3400350031003800      2008-01-06    Male      Product                  No          3.0                  6.0                   7.8       0.61\n",
            "\n",
            "[22750 rows x 9 columns]\n"
          ],
          "name": "stdout"
        }
      ]
    },
    {
      "cell_type": "markdown",
      "metadata": {
        "id": "EOZF3zqlzW2w"
      },
      "source": [
        "Based on the above output, we can see that we have many categorical features like gender, WFH setup availability, date of joining, company type, etc. Also, we have employee Id which is nothing but a unique identified of an employee and will not have any impact on our analysis of model development. We can get rid of that column and then analyze the data available"
      ]
    },
    {
      "cell_type": "markdown",
      "metadata": {
        "id": "otmWSe-IzyGm"
      },
      "source": [
        "Remove \"Employee ID\" column from the dataframe"
      ]
    },
    {
      "cell_type": "code",
      "metadata": {
        "colab": {
          "base_uri": "https://localhost:8080/"
        },
        "id": "CJm2QvWNz1kF",
        "outputId": "84c4f4a9-8af7-4306-a850-3af2e9099c82"
      },
      "source": [
        "raw_employee_df = raw_employee_df.drop(\"Employee ID\", axis = 1)\n",
        "print(raw_employee_df)"
      ],
      "execution_count": 26,
      "outputs": [
        {
          "output_type": "stream",
          "text": [
            "      Date of Joining  Gender Company Type WFH Setup Available  Designation  Resource Allocation  Mental Fatigue Score  Burn Rate\n",
            "0          2008-09-30  Female      Service                  No          2.0                  3.0                   3.8       0.16\n",
            "1          2008-11-30    Male      Service                 Yes          1.0                  2.0                   5.0       0.36\n",
            "2          2008-03-10  Female      Product                 Yes          2.0                  NaN                   5.8       0.49\n",
            "3          2008-11-03    Male      Service                 Yes          1.0                  1.0                   2.6       0.20\n",
            "4          2008-07-24  Female      Service                  No          3.0                  7.0                   6.9       0.52\n",
            "...               ...     ...          ...                 ...          ...                  ...                   ...        ...\n",
            "22745      2008-12-30  Female      Service                  No          1.0                  3.0                   NaN       0.41\n",
            "22746      2008-01-19  Female      Product                 Yes          3.0                  6.0                   6.7       0.59\n",
            "22747      2008-11-05    Male      Service                 Yes          3.0                  7.0                   NaN       0.72\n",
            "22748      2008-01-10  Female      Service                  No          2.0                  5.0                   5.9       0.52\n",
            "22749      2008-01-06    Male      Product                  No          3.0                  6.0                   7.8       0.61\n",
            "\n",
            "[22750 rows x 8 columns]\n"
          ],
          "name": "stdout"
        }
      ]
    },
    {
      "cell_type": "markdown",
      "metadata": {
        "id": "CqtS9-8-0JDd"
      },
      "source": [
        "#Step 4 - Get basic stats on the data we have"
      ]
    },
    {
      "cell_type": "code",
      "metadata": {
        "colab": {
          "base_uri": "https://localhost:8080/"
        },
        "id": "pZVUG2zI0MdT",
        "outputId": "204f01a1-5b2b-4c75-92e5-32ecbfe7e5e1"
      },
      "source": [
        "raw_employee_df.info()"
      ],
      "execution_count": 27,
      "outputs": [
        {
          "output_type": "stream",
          "text": [
            "<class 'pandas.core.frame.DataFrame'>\n",
            "RangeIndex: 22750 entries, 0 to 22749\n",
            "Data columns (total 8 columns):\n",
            " #   Column                Non-Null Count  Dtype  \n",
            "---  ------                --------------  -----  \n",
            " 0   Date of Joining       22750 non-null  object \n",
            " 1   Gender                22750 non-null  object \n",
            " 2   Company Type          22750 non-null  object \n",
            " 3   WFH Setup Available   22750 non-null  object \n",
            " 4   Designation           22750 non-null  float64\n",
            " 5   Resource Allocation   21369 non-null  float64\n",
            " 6   Mental Fatigue Score  20633 non-null  float64\n",
            " 7   Burn Rate             21626 non-null  float64\n",
            "dtypes: float64(4), object(4)\n",
            "memory usage: 1.4+ MB\n"
          ],
          "name": "stdout"
        }
      ]
    },
    {
      "cell_type": "markdown",
      "metadata": {
        "id": "s0r7OP5R0RGf"
      },
      "source": [
        "As shown in the output, we can see we have -\n",
        "- 22750 records in the dataset \n",
        "- There are missing values for Resource allocation, mental fatigue score and burn rate \n",
        "- Type of data is object(string) and float \n",
        "- Burn rate is the target label and is to be predicted"
      ]
    },
    {
      "cell_type": "code",
      "metadata": {
        "colab": {
          "base_uri": "https://localhost:8080/",
          "height": 294
        },
        "id": "-a-K265_0nz9",
        "outputId": "c66a4d04-8cc7-4fb7-8857-5d2f85b3bf52"
      },
      "source": [
        "raw_employee_df.describe()"
      ],
      "execution_count": 28,
      "outputs": [
        {
          "output_type": "execute_result",
          "data": {
            "text/html": [
              "<div>\n",
              "<style scoped>\n",
              "    .dataframe tbody tr th:only-of-type {\n",
              "        vertical-align: middle;\n",
              "    }\n",
              "\n",
              "    .dataframe tbody tr th {\n",
              "        vertical-align: top;\n",
              "    }\n",
              "\n",
              "    .dataframe thead th {\n",
              "        text-align: right;\n",
              "    }\n",
              "</style>\n",
              "<table border=\"1\" class=\"dataframe\">\n",
              "  <thead>\n",
              "    <tr style=\"text-align: right;\">\n",
              "      <th></th>\n",
              "      <th>Designation</th>\n",
              "      <th>Resource Allocation</th>\n",
              "      <th>Mental Fatigue Score</th>\n",
              "      <th>Burn Rate</th>\n",
              "    </tr>\n",
              "  </thead>\n",
              "  <tbody>\n",
              "    <tr>\n",
              "      <th>count</th>\n",
              "      <td>22750.000000</td>\n",
              "      <td>21369.000000</td>\n",
              "      <td>20633.000000</td>\n",
              "      <td>21626.000000</td>\n",
              "    </tr>\n",
              "    <tr>\n",
              "      <th>mean</th>\n",
              "      <td>2.178725</td>\n",
              "      <td>4.481398</td>\n",
              "      <td>5.728188</td>\n",
              "      <td>0.452005</td>\n",
              "    </tr>\n",
              "    <tr>\n",
              "      <th>std</th>\n",
              "      <td>1.135145</td>\n",
              "      <td>2.047211</td>\n",
              "      <td>1.920839</td>\n",
              "      <td>0.198226</td>\n",
              "    </tr>\n",
              "    <tr>\n",
              "      <th>min</th>\n",
              "      <td>0.000000</td>\n",
              "      <td>1.000000</td>\n",
              "      <td>0.000000</td>\n",
              "      <td>0.000000</td>\n",
              "    </tr>\n",
              "    <tr>\n",
              "      <th>25%</th>\n",
              "      <td>1.000000</td>\n",
              "      <td>3.000000</td>\n",
              "      <td>4.600000</td>\n",
              "      <td>0.310000</td>\n",
              "    </tr>\n",
              "    <tr>\n",
              "      <th>50%</th>\n",
              "      <td>2.000000</td>\n",
              "      <td>4.000000</td>\n",
              "      <td>5.900000</td>\n",
              "      <td>0.450000</td>\n",
              "    </tr>\n",
              "    <tr>\n",
              "      <th>75%</th>\n",
              "      <td>3.000000</td>\n",
              "      <td>6.000000</td>\n",
              "      <td>7.100000</td>\n",
              "      <td>0.590000</td>\n",
              "    </tr>\n",
              "    <tr>\n",
              "      <th>max</th>\n",
              "      <td>5.000000</td>\n",
              "      <td>10.000000</td>\n",
              "      <td>10.000000</td>\n",
              "      <td>1.000000</td>\n",
              "    </tr>\n",
              "  </tbody>\n",
              "</table>\n",
              "</div>"
            ],
            "text/plain": [
              "        Designation  Resource Allocation  Mental Fatigue Score     Burn Rate\n",
              "count  22750.000000         21369.000000          20633.000000  21626.000000\n",
              "mean       2.178725             4.481398              5.728188      0.452005\n",
              "std        1.135145             2.047211              1.920839      0.198226\n",
              "min        0.000000             1.000000              0.000000      0.000000\n",
              "25%        1.000000             3.000000              4.600000      0.310000\n",
              "50%        2.000000             4.000000              5.900000      0.450000\n",
              "75%        3.000000             6.000000              7.100000      0.590000\n",
              "max        5.000000            10.000000             10.000000      1.000000"
            ]
          },
          "metadata": {},
          "execution_count": 28
        }
      ]
    },
    {
      "cell_type": "markdown",
      "metadata": {
        "id": "UpnKpyv10q-k"
      },
      "source": [
        "Based on the output shown above, we have following inferences -\n",
        "- More that 75% of our records have designation of 3 (5 being highest)\n",
        "- More than 75% of our records have resource allocation value of 6 (10 being highest)\n",
        "- Same with Mental Fatigure score \n",
        "\n",
        "While all features will have an impact on the burn out rate, there will be critical features like Mental Fatigue score, resource allocation, gender which might impact the burn out rate. \n",
        "\n",
        "Let us try to visualize a few relations"
      ]
    },
    {
      "cell_type": "markdown",
      "metadata": {
        "id": "62vMoE7y1UQ-"
      },
      "source": [
        "#Step 5 - Visualization of data"
      ]
    },
    {
      "cell_type": "markdown",
      "metadata": {
        "id": "bKyeL86j1oRa"
      },
      "source": [
        "## Get the count of male and females in the dataset\n",
        "Gender does impact the WFH scenario where females are assumed to be more in fatigue. We will try to see this with our data. Let us plot a count plot to understand the number of records or samples we have on gender. \n",
        "\n",
        "We might in the future try to develop seperate models based on gender in case our model for genders perform much better. "
      ]
    },
    {
      "cell_type": "code",
      "metadata": {
        "colab": {
          "base_uri": "https://localhost:8080/",
          "height": 280
        },
        "id": "jU7PXoAX1XGt",
        "outputId": "fec7ebf3-0742-40e4-ed6d-fd0db494b8d4"
      },
      "source": [
        "sns.countplot(x = \"Gender\", data = raw_employee_df);"
      ],
      "execution_count": 31,
      "outputs": [
        {
          "output_type": "display_data",
          "data": {
            "image/png": "[encoded data removed]",
            "text/plain": [
              "<Figure size 432x288 with 1 Axes>"
            ]
          },
          "metadata": {}
        }
      ]
    }
  ]
}